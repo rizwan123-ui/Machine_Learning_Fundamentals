{
 "cells": [
  {
   "cell_type": "code",
   "execution_count": null,
   "id": "81b6658d-b0a3-45fd-ae2c-699c2ba8d2da",
   "metadata": {},
   "outputs": [],
   "source": [
    "Theory\n",
    "K-Means Clustering:\n",
    "                   K-Means is used to group data points into K clusters based on similarity.\n",
    "\n",
    "                  Each cluster has a centroid, and points are assigned to the nearest centroid.\n",
    "\n",
    "Iterative process: Assign points → Update centroids → Repeat until convergence.\n",
    "\n",
    "Applications: Customer segmentation, image compression, pattern recognition."
   ]
  },
  {
   "cell_type": "code",
   "execution_count": 1,
   "id": "7f2dce53-37fd-49b4-89f4-356ae1defb46",
   "metadata": {},
   "outputs": [
    {
     "name": "stdout",
     "output_type": "stream",
     "text": [
      "Final centroids: [[2 0]\n",
      " [3 3]]\n",
      "Cluster assignments: [0 1 0 1 1 0]\n"
     ]
    }
   ],
   "source": [
    "import numpy as np\n",
    "\n",
    "# Sample dataset\n",
    "X = np.array([[1,2],[1,4],[1,0],[4,2],[4,4],[4,0]])\n",
    "\n",
    "# K-Means parameters\n",
    "K = 2\n",
    "centroids = X[:K]  # Initialize first K points as centroids\n",
    "for _ in range(10):  # Iterate\n",
    "    # Assign clusters\n",
    "    clusters = []\n",
    "    for x in X:\n",
    "        distances = [np.linalg.norm(x - c) for c in centroids]\n",
    "        clusters.append(np.argmin(distances))\n",
    "    clusters = np.array(clusters)\n",
    "    \n",
    "    # Update centroids\n",
    "    for k in range(K):\n",
    "        centroids[k] = X[clusters == k].mean(axis=0)\n",
    "\n",
    "print(\"Final centroids:\", centroids)\n",
    "print(\"Cluster assignments:\", clusters)\n"
   ]
  },
  {
   "cell_type": "code",
   "execution_count": 2,
   "id": "1c17ff66-9db1-4d8e-a17a-a341e77bbab5",
   "metadata": {},
   "outputs": [
    {
     "name": "stdout",
     "output_type": "stream",
     "text": [
      "Final centroids: [[2.         0.66666667]\n",
      " [3.         3.33333333]]\n",
      "Cluster assignments: [0 1 0 1 1 0]\n"
     ]
    },
    {
     "name": "stderr",
     "output_type": "stream",
     "text": [
      "C:\\ProgramData\\anaconda3\\Lib\\site-packages\\sklearn\\cluster\\_kmeans.py:1419: UserWarning: KMeans is known to have a memory leak on Windows with MKL, when there are less chunks than available threads. You can avoid it by setting the environment variable OMP_NUM_THREADS=1.\n",
      "  warnings.warn(\n"
     ]
    }
   ],
   "source": [
    "from sklearn.cluster import KMeans\n",
    "\n",
    "X = np.array([[1,2],[1,4],[1,0],[4,2],[4,4],[4,0]])\n",
    "model = KMeans(n_clusters=2, random_state=42)\n",
    "model.fit(X)\n",
    "\n",
    "print(\"Final centroids:\", model.cluster_centers_)\n",
    "print(\"Cluster assignments:\", model.labels_)\n"
   ]
  },
  {
   "cell_type": "code",
   "execution_count": null,
   "id": "8107a466-0a96-428b-aa77-7b66a76a3ff6",
   "metadata": {},
   "outputs": [],
   "source": [
    "Theory\n",
    "Hierarchical Clustering:\n",
    "                         Hierarchical Clustering ek unsupervised learning algorithm hai jo data ko tree-like structure (dendrogram) me cluster karta hai.\n",
    "\n",
    "Types:\n",
    "\n",
    "Agglomerative (Bottom-up): Har point apna cluster start karta hai, phir closest clusters merge hote hain.\n",
    "\n",
    "Divisive (Top-down): Sare points ek cluster me hote hain, phir recursively split hote hain.\n",
    "\n",
    "Applications: Gene expression analysis, document clustering, customer segmentation."
   ]
  },
  {
   "cell_type": "code",
   "execution_count": 4,
   "id": "f7e21d0f-1e97-46c3-ab94-d4711b99beef",
   "metadata": {},
   "outputs": [
    {
     "name": "stdout",
     "output_type": "stream",
     "text": [
      "Cluster assignments: [1 1 1 0 0 0]\n"
     ]
    }
   ],
   "source": [
    "from sklearn.cluster import AgglomerativeClustering\n",
    "\n",
    "model = AgglomerativeClustering(n_clusters=2, metric='euclidean', linkage='ward')\n",
    "clusters = model.fit_predict(X)\n",
    "\n",
    "print(\"Cluster assignments:\", clusters)\n"
   ]
  },
  {
   "cell_type": "code",
   "execution_count": 5,
   "id": "69635714-6590-4274-b456-8bf9c62939ff",
   "metadata": {},
   "outputs": [
    {
     "name": "stdout",
     "output_type": "stream",
     "text": [
      "Final clusters: [[0, 1, 2], [3, 4, 5]]\n"
     ]
    }
   ],
   "source": [
    "import numpy as np\n",
    "from scipy.spatial.distance import cdist\n",
    "\n",
    "# Simple dataset\n",
    "X = np.array([[1,2],[1,4],[1,0],[4,2],[4,4],[4,0]])\n",
    "\n",
    "# Initially, each point is its own cluster\n",
    "clusters = [[i] for i in range(len(X))]\n",
    "\n",
    "def compute_distance(c1, c2):\n",
    "    # Use single-linkage: minimum distance between points of clusters\n",
    "    return np.min(cdist(X[c1], X[c2]))\n",
    "\n",
    "# Merge clusters iteratively until 2 remain\n",
    "while len(clusters) > 2:\n",
    "    min_dist = float('inf')\n",
    "    pair_to_merge = (0,1)\n",
    "    for i in range(len(clusters)):\n",
    "        for j in range(i+1, len(clusters)):\n",
    "            dist = compute_distance(clusters[i], clusters[j])\n",
    "            if dist < min_dist:\n",
    "                min_dist = dist\n",
    "                pair_to_merge = (i,j)\n",
    "    # Merge clusters\n",
    "    i,j = pair_to_merge\n",
    "    clusters[i] = clusters[i] + clusters[j]\n",
    "    clusters.pop(j)\n",
    "\n",
    "print(\"Final clusters:\", clusters)\n"
   ]
  },
  {
   "cell_type": "code",
   "execution_count": null,
   "id": "fd4e944e-33a0-44ed-a1c5-3a61b986ffcd",
   "metadata": {},
   "outputs": [],
   "source": [
    "Theory\n",
    "DBSCAN:\n",
    "       DBSCAN ek unsupervised learning algorithm hai jo dense regions me clusters identify karta hai.\n",
    "\n",
    "Key concepts:\n",
    "\n",
    "ε (eps): Maximum distance between two samples to be considered neighbors.\n",
    "\n",
    "MinPts: Minimum number of points required to form a dense region (cluster).\n",
    "\n",
    "Core, Border, Noise points:\n",
    "\n",
    "Core: Dense point (>= MinPts in ε-neighborhood)\n",
    "\n",
    "Border: Neighbor of core point, but not dense itself\n",
    "\n",
    "Noise: Outlier, not part of any cluster\n",
    "\n",
    "Applications: Outlier detection, spatial data analysis, anomaly detection."
   ]
  },
  {
   "cell_type": "code",
   "execution_count": 6,
   "id": "b79b44ba-ecf4-43dc-8242-46d4ddff914d",
   "metadata": {},
   "outputs": [
    {
     "name": "stdout",
     "output_type": "stream",
     "text": [
      "Cluster assignments: [-1 -1 -1 -1 -1 -1]\n"
     ]
    }
   ],
   "source": [
    "import numpy as np\n",
    "from sklearn.cluster import DBSCAN\n",
    "\n",
    "# Sample dataset\n",
    "X = np.array([[1,2],[1,4],[1,0],[4,2],[4,4],[4,0]])\n",
    "\n",
    "# DBSCAN model\n",
    "model = DBSCAN(eps=1.5, min_samples=2)\n",
    "clusters = model.fit_predict(X)\n",
    "\n",
    "print(\"Cluster assignments:\", clusters)\n"
   ]
  },
  {
   "cell_type": "code",
   "execution_count": 7,
   "id": "b9c7e92a-915a-430f-80a5-509a41ff2827",
   "metadata": {},
   "outputs": [
    {
     "name": "stdout",
     "output_type": "stream",
     "text": [
      "Cluster assignments (scratch): [-1 -1 -1 -1 -1 -1]\n"
     ]
    }
   ],
   "source": [
    "import numpy as np\n",
    "from sklearn.metrics import pairwise_distances\n",
    "\n",
    "# Dataset\n",
    "X = np.array([[1,2],[1,4],[1,0],[4,2],[4,4],[4,0]])\n",
    "\n",
    "eps = 1.5\n",
    "min_pts = 2\n",
    "n = X.shape[0]\n",
    "labels = np.full(n, -1)  # -1 means noise\n",
    "cluster_id = 0\n",
    "\n",
    "# Distance matrix\n",
    "dist_matrix = pairwise_distances(X)\n",
    "\n",
    "for i in range(n):\n",
    "    if labels[i] != -1:\n",
    "        continue\n",
    "    neighbors = np.where(dist_matrix[i] <= eps)[0]\n",
    "    if len(neighbors) < min_pts:\n",
    "        labels[i] = -1  # noise\n",
    "    else:\n",
    "        labels[i] = cluster_id\n",
    "        seeds = set(neighbors)\n",
    "        seeds.discard(i)\n",
    "        while seeds:\n",
    "            j = seeds.pop()\n",
    "            if labels[j] == -1:\n",
    "                labels[j] = cluster_id\n",
    "            elif labels[j] == -1 or labels[j] == -1:\n",
    "                labels[j] = cluster_id\n",
    "                j_neighbors = np.where(dist_matrix[j] <= eps)[0]\n",
    "                if len(j_neighbors) >= min_pts:\n",
    "                    seeds.update(j_neighbors)\n",
    "        cluster_id += 1\n",
    "\n",
    "print(\"Cluster assignments (scratch):\", labels)\n"
   ]
  },
  {
   "cell_type": "code",
   "execution_count": null,
   "id": "0c3f5437-90a7-414f-a2d6-df22c2517476",
   "metadata": {},
   "outputs": [],
   "source": [
    "Theory\n",
    "K-Means Clustering: \n",
    "                Partition-based clustering algorithm\n",
    "\n",
    "                Divides data into k clusters based on distance to centroids\n",
    "\n",
    "                Minimizes within-cluster variance\n"
   ]
  },
  {
   "cell_type": "code",
   "execution_count": 8,
   "id": "bbbfe778-33bc-4466-ad3b-9d9f1e7dd49a",
   "metadata": {},
   "outputs": [
    {
     "name": "stdout",
     "output_type": "stream",
     "text": [
      "Final centroids: [[2.         0.66666667]\n",
      " [3.         3.33333333]]\n",
      "Cluster assignments: [0 1 0 1 1 0]\n"
     ]
    },
    {
     "name": "stderr",
     "output_type": "stream",
     "text": [
      "C:\\ProgramData\\anaconda3\\Lib\\site-packages\\sklearn\\cluster\\_kmeans.py:1419: UserWarning: KMeans is known to have a memory leak on Windows with MKL, when there are less chunks than available threads. You can avoid it by setting the environment variable OMP_NUM_THREADS=1.\n",
      "  warnings.warn(\n"
     ]
    }
   ],
   "source": [
    "import numpy as np\n",
    "from sklearn.cluster import KMeans\n",
    "\n",
    "X = np.array([[1,2],[1,4],[1,0],[4,2],[4,4],[4,0]])\n",
    "model = KMeans(n_clusters=2, random_state=42)\n",
    "model.fit(X)\n",
    "\n",
    "print(\"Final centroids:\", model.cluster_centers_)\n",
    "print(\"Cluster assignments:\", model.labels_)\n"
   ]
  },
  {
   "cell_type": "code",
   "execution_count": null,
   "id": "d4761b79-e5da-4452-8336-bcaf59bb18f4",
   "metadata": {},
   "outputs": [],
   "source": [
    "Theory\n",
    "Hierarchical Clustering:\n",
    "                        Builds hierarchy of clusters (dendrogram)\n",
    "\n",
    "Agglomerative: Start with single points → merge clusters\n",
    "\n",
    "Divisive: Start with all points → split clusters"
   ]
  },
  {
   "cell_type": "code",
   "execution_count": 9,
   "id": "6b377a59-f1d5-4c43-bcf8-7513e4812c5f",
   "metadata": {},
   "outputs": [
    {
     "data": {
      "image/png": "[encoded data removed]",
      "text/plain": [
       "<Figure size 600x400 with 1 Axes>"
      ]
     },
     "metadata": {},
     "output_type": "display_data"
    },
    {
     "name": "stdout",
     "output_type": "stream",
     "text": [
      "Cluster assignments: [1 1 1 0 0 0]\n"
     ]
    }
   ],
   "source": [
    "import numpy as np\n",
    "from scipy.cluster.hierarchy import dendrogram, linkage\n",
    "from sklearn.cluster import AgglomerativeClustering\n",
    "import matplotlib.pyplot as plt\n",
    "\n",
    "X = np.array([[1,2],[1,4],[1,0],[4,2],[4,4],[4,0]])\n",
    "\n",
    "# Dendrogram\n",
    "Z = linkage(X, method='ward')\n",
    "plt.figure(figsize=(6,4))\n",
    "dendrogram(Z)\n",
    "plt.title(\"Hierarchical Clustering Dendrogram\")\n",
    "plt.xlabel(\"Samples\")\n",
    "plt.ylabel(\"Distance\")\n",
    "plt.show()\n",
    "\n",
    "# Agglomerative Clustering\n",
    "model = AgglomerativeClustering(n_clusters=2, metric='euclidean', linkage='ward')\n",
    "clusters = model.fit_predict(X)\n",
    "print(\"Cluster assignments:\", clusters)\n"
   ]
  },
  {
   "cell_type": "code",
   "execution_count": null,
   "id": "af18031f-00fe-4139-ac04-59081ace166e",
   "metadata": {},
   "outputs": [],
   "source": [
    "Theory\n",
    "DBSCAN (Density-Based Spatial Clustering):\n",
    "                                        Detects dense regions as clusters\n",
    "\n",
    "Parameters: eps (distance), MinPts (minimum points)\n",
    "\n",
    "Identifies: Core points, Border points, Noise points\n"
   ]
  },
  {
   "cell_type": "code",
   "execution_count": 10,
   "id": "36c29539-6c56-420b-a434-54eaf80b10db",
   "metadata": {},
   "outputs": [
    {
     "name": "stdout",
     "output_type": "stream",
     "text": [
      "Cluster assignments: [-1 -1 -1 -1 -1 -1]\n"
     ]
    }
   ],
   "source": [
    "import numpy as np\n",
    "from sklearn.cluster import DBSCAN\n",
    "\n",
    "X = np.array([[1,2],[1,4],[1,0],[4,2],[4,4],[4,0]])\n",
    "model = DBSCAN(eps=1.5, min_samples=2)\n",
    "clusters = model.fit_predict(X)\n",
    "\n",
    "print(\"Cluster assignments:\", clusters)\n"
   ]
  },
  {
   "cell_type": "code",
   "execution_count": 11,
   "id": "ffa54cc9-8465-4779-a3d3-a8902571e113",
   "metadata": {},
   "outputs": [
    {
     "name": "stdout",
     "output_type": "stream",
     "text": [
      "Cluster assignments (scratch): [-1 -1 -1 -1 -1 -1]\n"
     ]
    }
   ],
   "source": [
    "import numpy as np\n",
    "from sklearn.metrics import pairwise_distances\n",
    "\n",
    "X = np.array([[1,2],[1,4],[1,0],[4,2],[4,4],[4,0]])\n",
    "eps = 1.5\n",
    "min_pts = 2\n",
    "n = X.shape[0]\n",
    "labels = np.full(n, -1)\n",
    "cluster_id = 0\n",
    "dist_matrix = pairwise_distances(X)\n",
    "\n",
    "for i in range(n):\n",
    "    if labels[i] != -1:\n",
    "        continue\n",
    "    neighbors = np.where(dist_matrix[i] <= eps)[0]\n",
    "    if len(neighbors) < min_pts:\n",
    "        labels[i] = -1\n",
    "    else:\n",
    "        labels[i] = cluster_id\n",
    "        seeds = set(neighbors)\n",
    "        seeds.discard(i)\n",
    "        while seeds:\n",
    "            j = seeds.pop()\n",
    "            if labels[j] == -1:\n",
    "                labels[j] = cluster_id\n",
    "            elif labels[j] == -1 or labels[j] == -1:\n",
    "                labels[j] = cluster_id\n",
    "                j_neighbors = np.where(dist_matrix[j] <= eps)[0]\n",
    "                if len(j_neighbors) >= min_pts:\n",
    "                    seeds.update(j_neighbors)\n",
    "        cluster_id += 1\n",
    "\n",
    "print(\"Cluster assignments (scratch):\", labels)\n"
   ]
  },
  {
   "cell_type": "code",
   "execution_count": null,
   "id": "1e12c449-9f35-446c-a696-2921089b9172",
   "metadata": {},
   "outputs": [],
   "source": []
  }
 ],
 "metadata": {
  "kernelspec": {
   "display_name": "Python 3 (ipykernel)",
   "language": "python",
   "name": "python3"
  },
  "language_info": {
   "codemirror_mode": {
    "name": "ipython",
    "version": 3
   },
   "file_extension": ".py",
   "mimetype": "text/x-python",
   "name": "python",
   "nbconvert_exporter": "python",
   "pygments_lexer": "ipython3",
   "version": "3.13.5"
  }
 },
 "nbformat": 4,
 "nbformat_minor": 5
}
